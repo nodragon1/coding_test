{
 "cells": [
  {
   "cell_type": "code",
   "execution_count": 35,
   "id": "a940bc87",
   "metadata": {
    "scrolled": true
   },
   "outputs": [
    {
     "name": "stdout",
     "output_type": "stream",
     "text": [
      "[2, 3, -6, 1, 3, -1, 2, 4]\n"
     ]
    },
    {
     "data": {
      "text/plain": [
       "10"
      ]
     },
     "execution_count": 35,
     "metadata": {},
     "output_type": "execute_result"
    }
   ],
   "source": [
    "def solution(sequence):\n",
    "    all_result = []\n",
    "    for i in sequence:\n",
    "        all_result.append(i)\n",
    "        all_result.append(-i)\n",
    "\n",
    "    for n in range(1, len(sequence)):\n",
    "        pulse1 = [1]\n",
    "        pulse2 = [-1]\n",
    "\n",
    "        for i in range(n):\n",
    "            if pulse1[i] == 1 and pulse2[i] == -1:\n",
    "                pulse1.append(-1)\n",
    "                pulse2.append(1)\n",
    "            elif pulse1[i] == -1 and pulse2[i] == 1:\n",
    "                pulse1.append(1)\n",
    "                pulse2.append(-1)\n",
    "\n",
    "\n",
    "        for idx in range(len(sequence) - n):\n",
    "            value1 = 0\n",
    "            value2 = 0\n",
    "            for i in range(n + 1):\n",
    "                value1 += sequence[idx:idx + n + 1][i] * pulse1[i]\n",
    "                value2 += sequence[idx:idx + n + 1][i] * pulse2[i]\n",
    "            all_result.append(value1)\n",
    "            all_result.append(value2)\n",
    "    answer = max(all_result)\n",
    "    return answer\n",
    "\n",
    "while True:\n",
    "    sequence = []\n",
    "    seq = input()\n",
    "    for item in seq.strip('[]').split(', '):\n",
    "        sequence.append(int(item))\n",
    "    if 1 <= len(sequence) <= 500000:\n",
    "        n = 0\n",
    "        for i in sequence:\n",
    "            if -100000 <= i <= 100000:\n",
    "                n += 1\n",
    "        if n == len(sequence):\n",
    "            break\n",
    "            \n",
    "solution(sequence)"
   ]
  }
 ],
 "metadata": {
  "kernelspec": {
   "display_name": "Python 3 (ipykernel)",
   "language": "python",
   "name": "python3"
  },
  "language_info": {
   "codemirror_mode": {
    "name": "ipython",
    "version": 3
   },
   "file_extension": ".py",
   "mimetype": "text/x-python",
   "name": "python",
   "nbconvert_exporter": "python",
   "pygments_lexer": "ipython3",
   "version": "3.9.13"
  }
 },
 "nbformat": 4,
 "nbformat_minor": 5
}
