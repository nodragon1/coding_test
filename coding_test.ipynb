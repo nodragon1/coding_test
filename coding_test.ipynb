{
 "cells": [
  {
   "cell_type": "markdown",
   "id": "179298fd",
   "metadata": {},
   "source": [
    "# First try"
   ]
  },
  {
   "cell_type": "code",
   "execution_count": 3,
   "id": "a940bc87",
   "metadata": {
    "scrolled": true
   },
   "outputs": [
    {
     "name": "stdout",
     "output_type": "stream",
     "text": [
      "[2, 3, -6, 1, 3, -1, 2, 4]\n"
     ]
    },
    {
     "data": {
      "text/plain": [
       "10"
      ]
     },
     "execution_count": 3,
     "metadata": {},
     "output_type": "execute_result"
    }
   ],
   "source": [
    "def solution(sequence):\n",
    "    all_result = []\n",
    "    for i in sequence:\n",
    "        all_result.append(i)\n",
    "        all_result.append(-i)\n",
    "\n",
    "    for n in range(1, len(sequence)):\n",
    "        pulse1 = [1]\n",
    "        pulse2 = [-1]\n",
    "\n",
    "        for i in range(n):\n",
    "            if pulse1[i] == 1 and pulse2[i] == -1:\n",
    "                pulse1.append(-1)\n",
    "                pulse2.append(1)\n",
    "            elif pulse1[i] == -1 and pulse2[i] == 1:\n",
    "                pulse1.append(1)\n",
    "                pulse2.append(-1)\n",
    "\n",
    "\n",
    "        for idx in range(len(sequence) - n):\n",
    "            value1 = 0\n",
    "            value2 = 0\n",
    "            for i in range(n + 1):\n",
    "                value1 += sequence[idx:idx + n + 1][i] * pulse1[i]\n",
    "                value2 += sequence[idx:idx + n + 1][i] * pulse2[i]\n",
    "            all_result.append(value1)\n",
    "            all_result.append(value2)\n",
    "    answer = max(all_result)\n",
    "    return answer\n",
    "\n",
    "while True:\n",
    "    sequence = []\n",
    "    seq = input()\n",
    "    for item in seq.strip('[]').split(', '):\n",
    "        sequence.append(int(item))\n",
    "    if 1 <= len(sequence) <= 500000:\n",
    "        n = 0\n",
    "        for i in sequence:\n",
    "            if -100000 <= i <= 100000:\n",
    "                n += 1\n",
    "        if n == len(sequence):\n",
    "            break\n",
    "            \n",
    "solution(sequence)"
   ]
  },
  {
   "cell_type": "markdown",
   "id": "db3f4716",
   "metadata": {},
   "source": [
    "## 개선점\n",
    "sequence의 길이가 짧을 경우 런타임 에러가 없지만, sequence의 길이에 따라 런타임이 기하 급수적으로 증가하게 된다."
   ]
  },
  {
   "cell_type": "markdown",
   "id": "dfa77557",
   "metadata": {},
   "source": [
    "# 코드 개선 후 (Second try)"
   ]
  },
  {
   "cell_type": "code",
   "execution_count": 56,
   "id": "1207a613",
   "metadata": {},
   "outputs": [
    {
     "name": "stdout",
     "output_type": "stream",
     "text": [
      "[2, 3, -6, 1, 3, -1, 2, 4]\n"
     ]
    },
    {
     "data": {
      "text/plain": [
       "10"
      ]
     },
     "execution_count": 56,
     "metadata": {},
     "output_type": "execute_result"
    }
   ],
   "source": [
    "def solution(sequence):\n",
    "    temp1 = []\n",
    "    for i in sequence:\n",
    "        temp1.append(i)\n",
    "    temp2 = []\n",
    "    temp3 = []\n",
    "    max_result = []\n",
    "\n",
    "    for i in sequence:\n",
    "        if i >= 0:\n",
    "            temp2.append(i)\n",
    "        else:\n",
    "            temp2.append(-i)\n",
    "    max_result.append(max(temp2))\n",
    "    temp2.clear()\n",
    "\n",
    "    for n in range(1, len(sequence)):\n",
    "        if n % 2 != 0:\n",
    "            for i in range(len(sequence) - n):\n",
    "                value = temp1[i] - sequence[i + n]\n",
    "                if value >= 0:\n",
    "                    temp2.append(value)\n",
    "                    temp3.append(value)\n",
    "                else:\n",
    "                    temp2.append(-value)\n",
    "                    temp3.append(value)\n",
    "            max_result.append(max(temp2))\n",
    "            temp1.clear()\n",
    "            for i in temp3:\n",
    "                temp1.append(i)\n",
    "            temp2.clear()\n",
    "            temp3.clear()\n",
    "        else:\n",
    "            for i in range(len(sequence) - n):\n",
    "                value = temp1[i] + sequence[i + n]\n",
    "                if value >= 0:\n",
    "                    temp2.append(value)\n",
    "                    temp3.append(value)\n",
    "                else:\n",
    "                    temp2.append(-value)\n",
    "                    temp3.append(value)\n",
    "            max_result.append(max(temp2))\n",
    "            temp1.clear()\n",
    "            for i in temp3:\n",
    "                temp1.append(i)\n",
    "            temp2.clear()\n",
    "            temp3.clear()\n",
    "    answer = max(max_result)\n",
    "    return answer\n",
    "\n",
    "while True:\n",
    "    sequence = []\n",
    "    seq = input()\n",
    "    for item in seq.strip('[]').split(', '):\n",
    "        sequence.append(int(item))\n",
    "    if 1 <= len(sequence) <= 500000:\n",
    "        n = 0\n",
    "        for i in sequence:\n",
    "            if -100000 <= i <= 100000:\n",
    "                n += 1\n",
    "        if n == len(sequence):\n",
    "            break\n",
    "            \n",
    "solution(sequence)"
   ]
  },
  {
   "cell_type": "markdown",
   "id": "de585c1a",
   "metadata": {},
   "source": [
    "## 개선 점\n",
    "규칙성을 활용하여 절대적인 처리량이 줄어들어 첫 번째 시도보단 런타임이 줄어들었지만, 여전히 많은 시간이 걸린다."
   ]
  }
 ],
 "metadata": {
  "kernelspec": {
   "display_name": "Python 3 (ipykernel)",
   "language": "python",
   "name": "python3"
  },
  "language_info": {
   "codemirror_mode": {
    "name": "ipython",
    "version": 3
   },
   "file_extension": ".py",
   "mimetype": "text/x-python",
   "name": "python",
   "nbconvert_exporter": "python",
   "pygments_lexer": "ipython3",
   "version": "3.9.13"
  }
 },
 "nbformat": 4,
 "nbformat_minor": 5
}
